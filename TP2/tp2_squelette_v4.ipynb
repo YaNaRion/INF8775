{
 "cells": [
  {
   "cell_type": "markdown",
   "metadata": {
    "id": "aQ9Q_KsyLM-v"
   },
   "source": [
    "# INF8775 – Analyse et conception d’algorithmes\n",
    "# TP2 – Hiver 2025"
   ]
  },
  {
   "cell_type": "markdown",
   "metadata": {
    "id": "5aK0HIGKLM-w"
   },
   "source": [
    "Druet, Yann, 2198643\n",
    "\n",
    "Provost-Cardin, Alexandre, 2210084"
   ]
  },
  {
   "cell_type": "markdown",
   "metadata": {
    "id": "yjyM8agpLM-x"
   },
   "source": [
    "Note finale :"
   ]
  },
  {
   "cell_type": "markdown",
   "metadata": {
    "id": "BpQ7HYqCLM-x"
   },
   "source": [
    " <u>**Date limite de remise :**</u>  18 mars 23h59 (Groupe B1), 11 mars 23h59 (Groupe B2)"
   ]
  },
  {
   "cell_type": "markdown",
   "metadata": {
    "id": "Kc0Iyv4fLM-y"
   },
   "source": [
    "# Instructions\n",
    "\n",
    "## Rédaction et remise du rapport\n",
    "\n",
    "- Ce notebook constitue à la fois le sujet du TP, votre code et votre rapport. Il contient déjà du code pour faciliter vos mesures et l'affichage de vos résultats, ainsi qu'un squelette pour votre rapport.\n",
    "\n",
    "- Complétez directement le notebook, vous êtes libres de créer de nouvelles cellules de code ou de texte.\n",
    "\n",
    "- Remettez le fichier du notebook sur Moodle avec le nom `NOM1_MATRICULE1_NOM2_MATRICULE2.ipynb`\n",
    "\n",
    "- Vous pouvez vous inspirer de code trouvé sur Internet, tant que vous en mentionnez la source, mais vous devez créer votre propre implémentation, sous peine d'être sanctionnés pour plagiat.\n",
    "\n",
    "## Mise en situation\n",
    "\n",
    "Ce travail pratique se répartit sur deux séances de laboratoire et porte sur l'analyse et la conception d'algorithmes développés suivant différents patrons de conception afin de résoudre une version simplifiée d'un problème réaliste d'optimisation.\n",
    "\n",
    "\n",
    "## Description du problème\n",
    "\n",
    "Dans ce TP, vous allez travailler sur le problème de faire de la monnaie. La première partie du problème est définie avec une liste de taille `size` de différents nombres naturels qui représentent les pièces de monnaie que vous avez à votre disposition. Il faut ensuite définir le `total` que vous voulez faire avec les pièces à votre disposition. La difficulté est qu'il faut le faire avec le moins de pièces possibles.\n",
    "\n",
    "Par exemple :\n",
    "- `size = 3`, `total = 19`\n",
    "- Vos pièces sont : `[1,4,9]`\n",
    "- La solution optimale est : `[9,9,1]`\n",
    "\n",
    "**IMPORTANT** Le ratio entre `size` et `total` affecte fortement le taux de succès. Plus `size` s'approche de `total`, plus le problème devient facile. Avec un petit test (donc les valeurs ne sont pas parfaites), on estime qu'à un ratio de 60%, le problème devient trivial. Même à un ratio de 35%, on observe une augmentation visible dans le taux de succès. Pour contrer ce problème, essayez de choisir des valeurs pour le `total` qui sont un ordre de magnitude de plus que `size` (10 fois plus)."
   ]
  },
  {
   "cell_type": "markdown",
   "metadata": {
    "id": "DRjrEuzKLM-z"
   },
   "source": [
    "## Algorithmes à implanter\n",
    "\n",
    "Trois algorithmes seront implantés, mettant en pratique des patrons de conception différents :\n",
    "\n",
    "1. Un algorithme glouton\n",
    "2. Un algorithme diviser pour régner sans mémoization\n",
    "3. Un algorithme de programmation dynamique"
   ]
  },
  {
   "cell_type": "markdown",
   "metadata": {
    "id": "HFZmJrUtLM-z"
   },
   "source": [
    "\n",
    "## Jeu de données\n",
    "\n",
    "La classe Problem existe pour simplifier l'interface des différentes fonctions utilitaires. Elle permet de générer des jeux de données avec la méthode `generate_sample` ci-dessous. Elle génère une liste d'une taille donnée contenant les pièces de monnaie différentes disponibles pour résoudre le problème. Tous les exemplaires contiennent la valeur `1` et devrait avoir une solution."
   ]
  },
  {
   "cell_type": "code",
   "execution_count": 9,
   "metadata": {
    "id": "My2c5uzELM-2"
   },
   "outputs": [],
   "source": [
    "import random\n",
    "from collections.abc import Iterable, Callable\n",
    "\n",
    "class Problem():\n",
    "    def __init__(\n",
    "        self,\n",
    "        size: int, \n",
    "        total: int, \n",
    "        num_samples: int = 5\n",
    "    ) -> None:\n",
    "        self.num_samples: int = num_samples\n",
    "        self.size: int = size\n",
    "        self.total: int = total\n",
    "\n",
    "    def generate_sample(self) -> list[int]:\n",
    "        \"\"\"Returns a list of given size containing the different denominations to be used\"\"\"\n",
    "        instance = list(range(2, self.total))\n",
    "        random.shuffle(instance)\n",
    "        instance = instance[:self.size-1]\n",
    "        instance.append(1)\n",
    "        return instance\n",
    "\n",
    "    def generate_dataset(self) -> Iterable[list[int]]:\n",
    "        \"\"\"Returns an iterator over as many samples as are described \"\"\"\n",
    "        return (self.generate_sample() for _ in range(self.num_samples))"
   ]
  },
  {
   "cell_type": "markdown",
   "metadata": {
    "id": "glYqxyfSLM-3"
   },
   "source": [
    "# Implantations et expérimentations"
   ]
  },
  {
   "cell_type": "markdown",
   "metadata": {
    "id": "-SCkyf73LM-3"
   },
   "source": [
    "Ces fonctions auxiliaires vous sont fournies pour vérifier l'exactitude de vos algorithmes, mesurer leur performance et afficher vos résultats.\n",
    "\n",
    "Il est recommandé de prendre le temps de lire et de comprendre le code.\n",
    "\n",
    "Exécutez la cellule ci-dessous pour pouvoir utiliser les fonctions auxiliaires."
   ]
  },
  {
   "cell_type": "code",
   "execution_count": 2,
   "metadata": {
    "id": "AGmcsnGELM-3"
   },
   "outputs": [],
   "source": [
    "import time\n",
    "import warnings\n",
    "import matplotlib.pyplot as plt\n",
    "from scipy.stats import linregress\n",
    "\n",
    "\n",
    "class InvalidSolution(Exception):\n",
    "    def __init__(self):\n",
    "        super().__init__(\"Invalid solution, verify your code.\")\n",
    "\n",
    "\n",
    "class InvalidProblem(Exception):\n",
    "    def __init__(self, message: str):\n",
    "        super().__init__(f\"Invalid problem. {message}\")\n",
    "\n",
    "\n",
    "class Measure():\n",
    "    \"\"\"A wrapper to contain information on taken measures. mae is Mean Absolute Error\"\"\"\n",
    "    def __init__(self, size: int, total: int, mean_time: float, correct_frac:float, mean_error:float) -> None:\n",
    "        \"\"\"Args:\n",
    "            mae (float): Mean Absolute Error\n",
    "        \"\"\"\n",
    "        self.size = size\n",
    "        self.total = total\n",
    "        self.mean_time = mean_time\n",
    "        self.correct_frac = correct_frac\n",
    "        self.mean_error = mean_error\n",
    "\n",
    "\n",
    "def make_problems(\n",
    "    sizes: list[int],\n",
    "    totals: list[int],\n",
    "    num_samples: int = 5\n",
    ") -> list[Problem]:\n",
    "    \"\"\"Creates problem instances using given sizes and total value\"\"\"\n",
    "    problems: list[Problem] = []\n",
    "    for size in sizes:\n",
    "        for total in totals:\n",
    "            if size > total:\n",
    "                raise InvalidProblem(\"Size is greater than total which results in a trivial problem\")\n",
    "            elif size >= total/2:\n",
    "                warnings.warn(\"Avoid setting a size that is close to half the total, it simplifies the problem\")\n",
    "            problems.append(Problem(size,total,num_samples))\n",
    "    return problems\n",
    "\n",
    "\n",
    "def recursive_memoization(a,b,c,d):\n",
    "    if b == 0:\n",
    "        return 0\n",
    "    if b < 0 or a == len(c):\n",
    "        return float('inf')\n",
    "    if d[a][b] != -1:\n",
    "        return d[a][b] \n",
    "    e = float('inf')\n",
    "    if c[a] > 0:\n",
    "        e = recursive_memoization(a, b - c[a], c, d)\n",
    "        if e != float('inf'):\n",
    "            e += 1\n",
    "    f = recursive_memoization(a + 1, b, c, d)\n",
    "    d[a][b] = min(e, f)\n",
    "    return d[a][b]\n",
    "\n",
    "\n",
    "def get_error(sample: list[int], total: int, solution: list[int]) -> int:\n",
    "    \"\"\"Returns the difference between the given solution and the minimum possible\"\"\"\n",
    "    return len(solution) - recursive_memoization(0,total,sample,[[-1]*(total+1) for _ in range(len(sample))])\n",
    "\n",
    "\n",
    "def verify_solution(sample: list[int], total: int, solution: list[int]) -> bool:\n",
    "    \"\"\"Validates if the solution is correct. This does not guarantee an optimal solution\"\"\"\n",
    "    \n",
    "    # The solution must reach the desired target\n",
    "    if sum(solution) != total:\n",
    "        return False\n",
    "\n",
    "    sample_set = set(sample)\n",
    "    # All values in the solution must be options in the sample\n",
    "    if any(iter not in sample_set for iter in solution):\n",
    "        return False\n",
    "\n",
    "    # Solution is valid\n",
    "    return True\n",
    "\n",
    "\n",
    "def measure(\n",
    "    procedure: Callable[[list[int],int],list[int]],\n",
    "    sample: list[int],\n",
    "    total: int,\n",
    "    time_scale: int = 1000\n",
    ") -> tuple[int,int]:\n",
    "    \"\"\"Returns the time in milliseconds taken to run the procedure as well as the absolute error in a tuple.\n",
    "\n",
    "    Raises:\n",
    "        InvalidSolution: If the procedure returns an invalid solution, raises an exception.\n",
    "    \"\"\"\n",
    "    start: int = time.time() * time_scale\n",
    "    solution: list[int] = procedure(sample.copy(),total)\n",
    "    end: int = time.time() * time_scale\n",
    "    if not verify_solution(sample, total, solution):\n",
    "        raise InvalidSolution()\n",
    "    return (round(end - start), get_error(sample,total,solution))\n",
    "\n",
    "\n",
    "def measure_mean(procedure: Callable[[list[int],int],list[int]], prob: Problem, time_scale: int = 1000) -> Measure:\n",
    "    \"\"\"Generates multiple samples with the specified parameters and returns the mean time in milliseconds\n",
    "\n",
    "    Raises:\n",
    "        InvalidSolution: If one of the samples results in an invalid solution.\n",
    "    \"\"\"\n",
    "    measures = [measure(procedure,sample,prob.total,time_scale) for sample in prob.generate_dataset()]\n",
    "    mean_time = sum(iter[0] for iter in measures) / prob.num_samples\n",
    "    n = len(measures)\n",
    "    n_correct = len([iter for iter in measures if iter[1] == 0])\n",
    "    correct_frac = n_correct / n\n",
    "    mean_error = 0\n",
    "    if n_correct != n:\n",
    "        mean_error = sum(iter[1] for iter in measures) / (n - n_correct)\n",
    "    return Measure(prob.size, prob.total, mean_time, correct_frac, mean_error)\n",
    "\n",
    "\n",
    "def measure_range(procedure: Callable[[list[int],int],list[int]], problems: list[Problem], time_scale: int = 1000) -> list[Measure]:\n",
    "    \"\"\"Measures the mean time taken in milliseconds for each size in the given list.\n",
    "\n",
    "    Raises:\n",
    "        InvalidSolution: If one of the samples results in an invalid solution.\n",
    "\n",
    "    Returns:\n",
    "        A list of Measure instances containing the specifications\n",
    "        of the problem as well as the mean time.\n",
    "    \"\"\"\n",
    "    return [\n",
    "        measure_mean(procedure, prob, time_scale)\n",
    "        for prob in problems\n",
    "    ]\n",
    "\n",
    "\n",
    "def display_data_as_table(measures: list[Measure]):\n",
    "    \"\"\"Prints a table with the data in the given list of measures\"\"\"\n",
    "    print(\"{: <20} {: <20} {: <20} {: <20} {: <20}\".format(\"Taille\",\"Somme\",\"Temps moyen (ms)\", \"Taux de succès\", \"Erreur moyenne\"))\n",
    "    for measure in measures:\n",
    "        print(\"{: <20} {: <20} {: <20} {: <20} {: <20}\".format(measure.size, measure.total, measure.mean_time, measure.correct_frac, round(measure.mean_error, 3)))\n",
    "\n",
    "\n",
    "### The different tests are below, the names are in french to avoid confusion\n",
    "\n",
    "\n",
    "def test_de_puissance(\n",
    "    data: dict[int,int],\n",
    "    x_label: str,\n",
    "    y_label: str,\n",
    "    title: str = \"Test de puissance\"\n",
    "):\n",
    "    \"\"\"Takes the data and displays it into the corresponding test graph.\n",
    "    It applies no transformations to the data.\n",
    "\n",
    "    Args:\n",
    "        data (dict[int,int]): A dictionnary mapping the x variable to the y variable\n",
    "    \"\"\"\n",
    "    # Log both sets of values\n",
    "    x = list(data.keys())\n",
    "    y = list(data.values())\n",
    "\n",
    "    # Perform the lin regression\n",
    "    m, b, rvalue, _, _ = linregress(x, y)\n",
    "\n",
    "    # Estimate the values of y based on the lin regression results\n",
    "    predicted = [m * iter + b for iter in x]\n",
    "\n",
    "    # Create the line equation\n",
    "    line_eq = f\"y = {m:.2f}x + {b:.2f}\"\n",
    "\n",
    "    # Plot the points\n",
    "    plt.scatter(x, y, label='Mesures')\n",
    "\n",
    "    # Plot the regression line\n",
    "    plt.plot(x, predicted, color=\"red\", label=f'Regression linéaire R²={round(rvalue**2,6)}')\n",
    "\n",
    "    # Add labels and title\n",
    "    plt.xlabel(x_label)\n",
    "    plt.ylabel(y_label)\n",
    "    plt.title(title)\n",
    "\n",
    "    # Add legend\n",
    "    plt.legend(bbox_to_anchor=(0.60, 0), loc='lower left')\n",
    "\n",
    "    # Display the line equation\n",
    "    plt.text(min(x), max(y), line_eq)\n",
    "\n",
    "    # Show the plot\n",
    "    plt.show()\n",
    "\n",
    "\n",
    "def test_de_rapport(\n",
    "    data: dict[int,int],\n",
    "    x_label: str,\n",
    "    y_label: str,\n",
    "    title: str = \"Test de rapport\"\n",
    "):\n",
    "    \"\"\"Takes the data and displays it into the corresponding test graph.\n",
    "    It applies no transformations to the data.\n",
    "\n",
    "    Args:\n",
    "        data (dict[int,int]): A dictionnary mapping the x variable to the y variable\n",
    "    \"\"\"\n",
    "    x = list(data.keys())\n",
    "    y = list(data.values())\n",
    "\n",
    "    plt.plot(x, y, label='Mesures')\n",
    "    plt.scatter(x, y, label='Mesures')\n",
    "\n",
    "    # Add labels and title\n",
    "    plt.xlabel(x_label)\n",
    "    plt.ylabel(y_label)\n",
    "    plt.title(title)\n",
    "    plt.show()\n",
    "\n",
    "\n",
    "def test_de_constantes(\n",
    "    data: dict[int,int],\n",
    "    x_label: str,\n",
    "    y_label: str = \"Temps (ms)\",\n",
    "    title: str = \"Test de constantes\"\n",
    "):\n",
    "    \"\"\"Takes the data and displays it into the corresponding test graph.\n",
    "    It applies no transformations to the data.\n",
    "\n",
    "    Args:\n",
    "        data (dict[int,int]): A dictionnary mapping the x variable to the y variable\n",
    "    \"\"\"\n",
    "    x = list(data.keys())\n",
    "    y = list(data.values())\n",
    "\n",
    "    # Perform linear regression\n",
    "    m, b, rvalue, _, _ = linregress(x, y)\n",
    "\n",
    "    predicted = [m * iter + b for iter in x]\n",
    "\n",
    "    # Create the line equation\n",
    "    line_eq = f\"y = {m:.2E}x + {b:.2E}\"\n",
    "\n",
    "    # Plot the points\n",
    "    plt.scatter(x, y, label='Mesures')\n",
    "\n",
    "    # Plot the regression line\n",
    "    plt.plot(x, predicted, color=\"red\", label=f'Regression linéaire R²={round(rvalue**2,6)}')\n",
    "\n",
    "    # Add labels and title\n",
    "    plt.xlabel(x_label)\n",
    "    plt.ylabel(y_label)\n",
    "    plt.title(title)\n",
    "\n",
    "    # Add legend\n",
    "    plt.legend(bbox_to_anchor=(0.60, 0), loc='lower left')\n",
    "\n",
    "    # Display the line equation\n",
    "    plt.text(min(x), max(y), line_eq)\n",
    "\n",
    "    # Show the plot\n",
    "    plt.show()"
   ]
  },
  {
   "cell_type": "markdown",
   "metadata": {
    "id": "t5F2bmrjLM-4"
   },
   "source": [
    "## Partie 1 : Algorithme glouton (5 points)"
   ]
  },
  {
   "cell_type": "markdown",
   "metadata": {
    "id": "hi_h3nzTLM-4"
   },
   "source": [
    "<u>**Question 1 :**</u> Implantez un algorithme suivant le patron de conception glouton.\n",
    "\n",
    "Il est normal que le glouton ne retourne pas toujours la solution optimale. Vous pouvez voir l'erreur obtenue, soit le nombre de pièces de plus que la solution optimale, et le taux de réponse optimal avec les fonctions de mesure.\n",
    "\n",
    "Tentez de rendre votre implantation la plus performante possible en évitant des calculs inutiles."
   ]
  },
  {
   "cell_type": "code",
   "execution_count": 3,
   "metadata": {
    "id": "pzPED6flLM-4",
    "scrolled": true
   },
   "outputs": [
    {
     "name": "stdout",
     "output_type": "stream",
     "text": [
      "[42, 1, 1, 1, 1, 1, 1, 1, 1]\n"
     ]
    }
   ],
   "source": [
    "size = 5\n",
    "total = size * 10\n",
    "problem = Problem(size, total)\n",
    "sample = problem.generate_sample()\n",
    "# print(sample)\n",
    "\n",
    "def Glouton(coins: list[int], total: int):\n",
    "    coins.sort()\n",
    "    # print(coins)\n",
    "    isSolutionFind = False\n",
    "    i: int = len(coins) - 1\n",
    "    coinsSolution: list[int] = []\n",
    "    reste = total\n",
    "    while(not isSolutionFind):\n",
    "        if reste == 0:\n",
    "            break\n",
    "        selectedCoins = coins[i]\n",
    "        if selectedCoins > reste:\n",
    "            i = i - 1\n",
    "            continue\n",
    "        if reste ==  0:\n",
    "            isSolutionFind = True\n",
    "        reste = reste - selectedCoins\n",
    "        coinsSolution.append(selectedCoins)\n",
    "    return coinsSolution\n",
    "\n",
    "print(Glouton(sample, total))"
   ]
  },
  {
   "cell_type": "markdown",
   "metadata": {
    "id": "MybKzgKHLM-5"
   },
   "source": [
    "### Analyse asymptotique\n",
    "\n",
    "<u>**Question 2 :**</u> Quelle est la complexité asymptotique théorique de cet algorithme? Expliquez"
   ]
  },
  {
   "cell_type": "markdown",
   "metadata": {
    "id": "X6REaCUjLM-5"
   },
   "source": [
    "*Insérer votre réponse ici*"
   ]
  },
  {
   "cell_type": "markdown",
   "metadata": {
    "id": "tRbIPGY9LM-5"
   },
   "source": [
    "### Mesures\n",
    "\n",
    "<u>**Question 3 :**</u> Rapportez dans un tableau les temps d'exécution moyens avec les fonctions auxiliaires `measure_range` et `display_data_as_table`."
   ]
  },
  {
   "cell_type": "code",
   "execution_count": null,
   "metadata": {
    "id": "xdq5bYGLLM-5"
   },
   "outputs": [],
   "source": []
  },
  {
   "cell_type": "markdown",
   "metadata": {
    "id": "TQJXk75oLM-5"
   },
   "source": [
    "### Validation empirique\n",
    "\n",
    "<u>**Question 4 :**</u> Servez-vous de vos temps d'exécution pour confirmer et/ou préciser l'analyse asymptotique théorique de vos algorithmes avec la méthode hybride de votre choix.\n",
    "\n",
    "La méthode peut varier d'un algorithme à l'autre. Justifiez les choix effectués."
   ]
  },
  {
   "cell_type": "code",
   "execution_count": null,
   "metadata": {
    "id": "1aUoRKCfLM-5"
   },
   "outputs": [],
   "source": []
  },
  {
   "cell_type": "markdown",
   "metadata": {
    "id": "xX7W21gBLM-5"
   },
   "source": [
    "*Insérer votre réponse ici*"
   ]
  },
  {
   "cell_type": "markdown",
   "metadata": {
    "id": "KjeliIB2LM-5"
   },
   "source": [
    "## Partie 2 : Algorithme diviser pour régner (5 points)"
   ]
  },
  {
   "cell_type": "markdown",
   "metadata": {
    "id": "P_9CdsqHLM-5"
   },
   "source": [
    "Utilisez le patron de conception diviser pour régner pour cet algorithme. Vous devriez être capable de trouver un algorithme qui retourne uniquement les solutions optimales même sans mémoïsation. Pour ce faire, vous devriez comparer l'impact qu'aurait d'ajouter une pièce par rapport à la passer pour obtenir la somme souhaitée.\n",
    "\n",
    "<u>**Question 1 :**</u> Implantez l'algorithme suivant le patron diviser pour régner."
   ]
  },
  {
   "cell_type": "code",
   "execution_count": 4,
   "metadata": {
    "id": "D5I9y3_ULM-6"
   },
   "outputs": [
    {
     "name": "stdout",
     "output_type": "stream",
     "text": [
      "[1, 10, 30, 37, 42] 50\n",
      "[10, 10, 30]\n"
     ]
    }
   ],
   "source": [
    "def FindBestSubSolution(solutions: list[int]):\n",
    "    smallestSolution = []\n",
    "    if solutions == None:\n",
    "        return None\n",
    "    \n",
    "    for solution in solutions:\n",
    "        if solution == solutions[0]:\n",
    "            smallestSolution = solution\n",
    "    \n",
    "        if len(solution) < len(smallestSolution):\n",
    "            smallestSolution = solution\n",
    "\n",
    "    return smallestSolution\n",
    "\n",
    "def DivideAndConquer(coins:list[int], total: int) -> list[int]:\n",
    "    solutions: list[list[int]] = []\n",
    "    if total <= 0:\n",
    "        return\n",
    "    for coin in coins:\n",
    "        solution = []\n",
    "        delta = total - coin\n",
    "        if delta < 0:\n",
    "            continue\n",
    "        solution.append(coin)\n",
    "        solutions.append(solution)\n",
    "        restOfSolution = DivideAndConquer(coins, delta)\n",
    "        if restOfSolution != None:\n",
    "            solution.extend(restOfSolution)\n",
    "            \n",
    "    return FindBestSubSolution(solutions)\n",
    "\n",
    "\n",
    "print(sample, total)\n",
    "print(DivideAndConquer(sample, total))\n"
   ]
  },
  {
   "cell_type": "markdown",
   "metadata": {
    "id": "N4RAuCeOLM-6"
   },
   "source": [
    "### Analyse asymptotique\n",
    "\n",
    "<u>**Question 2 :**</u> Quelle est la complexité asymptotique théorique de cet algorithme? Expliquez"
   ]
  },
  {
   "cell_type": "markdown",
   "metadata": {
    "id": "xTtD-njhLM-6"
   },
   "source": [
    "Premièrement, la fonction FindBestSubSolution suit une complexité O(m) où m est le nombre de solutions. La fonction recursive DivideAndConquer itère à travers toutes les pièces de monnaie, qu'on peut représenter par k. Ensuite, pour chaque appel récursif, la fonction essaie de soustraire chaque pièce de la valeur total, ce qui génère k appels récursifs dans le pire cas. La profondeur maximale de récursion est proportionnelle à total, soit O(n) avec n = total. On peut représenter la récurrence de la fonction DivideAndConquer comme ceci:\n",
    "\n",
    "f(n) = k * f(n - 1) + O(m)\n",
    "\n",
    "Si on développe jusqu'à f(0), on obtient\n",
    "\n",
    "f(n) = k * (k * f(n - 2) + O(m)) + O(m) = k^2 * f(n - 2) + O(m)\n",
    "\n",
    "f(n) = k^3 * f(n - 3) + k^2 * O(m) + k * O(m) + O(m)\n",
    "\n",
    "...\n",
    "\n",
    "k^n * f(0) + ∑k^i * O(m)\n",
    "\n",
    "La complexité temporelle est donc O(k^n)."
   ]
  },
  {
   "cell_type": "markdown",
   "metadata": {
    "id": "cBnAgIu3LM-6"
   },
   "source": [
    "### Mesures\n",
    "\n",
    "<u>**Question 3 :**</u> Rapportez dans un tableau les temps d'exécution moyens avec les fonctions auxiliaires `measure_range` et `display_data_as_table` **C'est attendu que cet algorithme soit beaucoup plus lent que le glouton. Vous n'avez pas besoin de mesurer sur des exemplaires aussi gros.**"
   ]
  },
  {
   "cell_type": "code",
   "execution_count": 48,
   "metadata": {
    "id": "m_YrcEK_LM-6"
   },
   "outputs": [
    {
     "name": "stdout",
     "output_type": "stream",
     "text": [
      "Taille               Somme                Temps moyen (ms)     Taux de succès       Erreur moyenne      \n",
      "2                    10                   0.0                  1.0                  0                   \n",
      "2                    11                   0.0                  1.0                  0                   \n",
      "2                    12                   0.0                  1.0                  0                   \n",
      "2                    13                   0.0                  1.0                  0                   \n",
      "2                    14                   0.11                 1.0                  0                   \n",
      "2                    15                   0.1                  1.0                  0                   \n",
      "2                    16                   0.055                1.0                  0                   \n",
      "2                    17                   0.28                 1.0                  0                   \n",
      "2                    18                   0.3                  1.0                  0                   \n",
      "2                    19                   0.305                1.0                  0                   \n",
      "2                    20                   0.77                 1.0                  0                   \n",
      "2                    21                   1.22                 1.0                  0                   \n",
      "2                    22                   1.34                 1.0                  0                   \n",
      "2                    23                   1.965                1.0                  0                   \n",
      "2                    24                   2.715                1.0                  0                   \n",
      "2                    25                   7.145                1.0                  0                   \n",
      "2                    26                   13.035               1.0                  0                   \n",
      "2                    27                   11.69                1.0                  0                   \n",
      "2                    28                   10.04                1.0                  0                   \n",
      "2                    29                   38.42                1.0                  0                   \n",
      "2                    30                   70.9                 1.0                  0                   \n"
     ]
    }
   ],
   "source": [
    "measures_divide_and_conquer = measure_range(DivideAndConquer, make_problems([2], range(10, 31, 1), num_samples=200))\n",
    "display_data_as_table(measures_divide_and_conquer)"
   ]
  },
  {
   "cell_type": "markdown",
   "metadata": {
    "id": "j77dQCVELM-6"
   },
   "source": [
    "### Validation empirique\n",
    "\n",
    "<u>**Question 4 :**</u> Servez-vous de vos temps d'exécution pour confirmer et/ou préciser l'analyse asymptotique théorique de vos algorithmes avec la méthode hybride de votre choix.\n",
    "\n",
    "La méthode peut varier d'un algorithme à l'autre. Justifiez les choix effectués."
   ]
  },
  {
   "cell_type": "code",
   "execution_count": 49,
   "metadata": {
    "id": "fNSu8gnnLM-6"
   },
   "outputs": [
    {
     "data": {
      "image/png": "[encoded data removed]",
      "text/plain": [
       "<Figure size 640x480 with 1 Axes>"
      ]
     },
     "metadata": {},
     "output_type": "display_data"
    }
   ],
   "source": [
    "measures_divide_and_conquer_dict: dict[int: int] = {}\n",
    "for m in measures_divide_and_conquer:\n",
    "    measures_divide_and_conquer_dict[m.total] = m.mean_time / (m.size ** m.total) # f(x) = k^n\n",
    "test_de_rapport(measures_divide_and_conquer_dict, \"Taille\", \"Consommation\")"
   ]
  },
  {
   "cell_type": "markdown",
   "metadata": {
    "id": "SfW-EtZ7LM-6"
   },
   "source": [
    "Nous avons choisi d'utiliser le test de rapport. Nous avons déjà une idée de la consommation de temps de notre algorithme. Elle croit selon f(x) =  k^x. Le test de rapport nous permet de confirmer que la croissance suit réellement la fonction f(x) = k^x. Comme nous pouvons le voir ci-dessus, les valeurs dans notre test du rapport semblent converger vers 0, ce qui voudrait dire que notre hypothèse est une sur-estimation. Notre algorithme suivrait donc une consommation de temps plus petite que O(k^n)."
   ]
  },
  {
   "cell_type": "markdown",
   "metadata": {
    "id": "K9JRijBiLM-6"
   },
   "source": [
    "## Partie 3 : Algorithme de programmation dynamique (5 points)"
   ]
  },
  {
   "cell_type": "markdown",
   "metadata": {
    "id": "EUOxko0-LM-6"
   },
   "source": [
    "Vous pouvez trouvez une bonne présentation de cet algorithme dans les capsules vidéos du cours.\n",
    "\n",
    "<u>**Question 1 :**</u> Implantez l'algorithme de programmation dynamique."
   ]
  },
  {
   "cell_type": "code",
   "execution_count": 5,
   "metadata": {
    "id": "RNPdnQOFLM-7"
   },
   "outputs": [
    {
     "name": "stdout",
     "output_type": "stream",
     "text": [
      "[[-1, -1], [-1, -1], [-1, -1], [-1, -1], [-1, -1], [-1, -1], [-1, -1], [-1, -1], [-1, -1], [-1, -1], [-1, -1]]\n",
      "ACCUMULATION: 1\n",
      "COIN_IT: 1\n",
      "[-1, -1]\n",
      "DANS IF NOT BETTER\n",
      "1\n",
      "0\n",
      "ACCUMULATION: 2\n",
      "COIN_IT: 2\n",
      "[-1, -1]\n",
      "DANS IF NOT BETTER\n",
      "2\n",
      "0\n",
      "ACCUMULATION: 3\n",
      "COIN_IT: 3\n",
      "[-1, -1]\n",
      "DANS IF NOT BETTER\n",
      "3\n",
      "0\n",
      "ACCUMULATION: 4\n",
      "COIN_IT: 4\n",
      "[-1, -1]\n",
      "DANS IF NOT BETTER\n",
      "4\n",
      "0\n",
      "ACCUMULATION: 5\n",
      "COIN_IT: 5\n",
      "[-1, -1]\n",
      "DANS IF NOT BETTER\n",
      "5\n",
      "0\n",
      "ACCUMULATION: 6\n",
      "COIN_IT: 6\n",
      "[-1, -1]\n",
      "DANS IF NOT BETTER\n",
      "6\n",
      "0\n",
      "ACCUMULATION: 7\n",
      "COIN_IT: 7\n",
      "[-1, -1]\n",
      "DANS IF NOT BETTER\n",
      "7\n",
      "0\n",
      "ACCUMULATION: 8\n",
      "COIN_IT: 8\n",
      "[-1, -1]\n",
      "DANS IF NOT BETTER\n",
      "8\n",
      "0\n",
      "ACCUMULATION: 9\n",
      "COIN_IT: 9\n",
      "[-1, -1]\n",
      "DANS IF NOT BETTER\n",
      "9\n",
      "0\n",
      "ACCUMULATION: 10\n",
      "COIN_IT: 10\n",
      "[-1, -1]\n",
      "DANS IF NOT BETTER\n",
      "10\n",
      "0\n",
      "[[-1, -1], [1, -1], [2, -1], [3, -1], [4, -1], [5, -1], [6, -1], [7, -1], [8, -1], [9, -1], [10, -1]]\n",
      "ACCUMULATION: 4\n",
      "COIN_IT: 1\n",
      "[4, -1]\n",
      "DANS IF NOT BETTER\n",
      "1\n",
      "1\n",
      "ACCUMULATION: 8\n",
      "COIN_IT: 2\n",
      "[8, -1]\n",
      "DANS IF NOT BETTER\n",
      "2\n",
      "1\n",
      "[[-1, -1], [1, -1], [2, -1], [3, -1], [4, 1], [5, -1], [6, -1], [7, -1], [8, 2], [9, -1], [10, -1]]\n"
     ]
    },
    {
     "data": {
      "text/plain": [
       "[]"
      ]
     },
     "execution_count": 5,
     "metadata": {},
     "output_type": "execute_result"
    }
   ],
   "source": [
    "def DynamiqueProgramming(coins: list[int], total: int) -> list[int]:\n",
    "    dynamiqueMatrice: list[list[int]] =  [[]] * (total + 1)\n",
    "    for i in range(len(dynamiqueMatrice)):\n",
    "        dynamiqueMatrice[i] = [-1] * len(coins)\n",
    "    \n",
    "    for i, coin in enumerate(coins):\n",
    "        print(dynamiqueMatrice)\n",
    "        accumulation = 0\n",
    "        coinIt = 0\n",
    "        while (accumulation < total):\n",
    "            accumulation = accumulation + coin\n",
    "            coinIt = coinIt + 1\n",
    "\n",
    "            if accumulation <= total:\n",
    "                print(f'ACCUMULATION: {accumulation}')\n",
    "                print(f'COIN_IT: {coinIt}')\n",
    "                print(dynamiqueMatrice[accumulation])\n",
    "                foundBetterSubSolution = False\n",
    "                for j in dynamiqueMatrice[accumulation]:\n",
    "                    if j != -1 and j < coinIt:\n",
    "                        print(\"DANS IF\")\n",
    "                        foundBetterSubSolution = True\n",
    "                        dynamiqueMatrice[accumulation][i] = j\n",
    "\n",
    "                if not foundBetterSubSolution:\n",
    "                    print(\"DANS IF NOT BETTER\")\n",
    "                    print(coinIt)\n",
    "                    print(i)\n",
    "                    dynamiqueMatrice[accumulation][i] = coinIt\n",
    "\n",
    "\n",
    "    print(dynamiqueMatrice)\n",
    "    return []\n",
    "\n",
    "DynamiqueProgramming([1, 4], 10)"
   ]
  },
  {
   "cell_type": "markdown",
   "metadata": {
    "id": "qeW0wQKxLM-7"
   },
   "source": [
    "### Analyse asymptotique\n",
    "\n",
    "<u>**Question 2 :**</u> Quelle est la complexité asymptotique théorique de cet algorithme? Expliquez"
   ]
  },
  {
   "cell_type": "markdown",
   "metadata": {
    "id": "H9MCpO4ALM_A"
   },
   "source": [
    "*Insérer votre réponse ici*"
   ]
  },
  {
   "cell_type": "markdown",
   "metadata": {
    "id": "_d1k1kOhLM_A"
   },
   "source": [
    "### Mesures\n",
    "\n",
    "<u>**Question 3 :**</u> Rapportez dans un tableau les temps d'exécution moyens avec les fonctions auxiliaires `measure_range` et `display_data_as_table`."
   ]
  },
  {
   "cell_type": "code",
   "execution_count": null,
   "metadata": {
    "id": "1L0mX8nOLM_A"
   },
   "outputs": [],
   "source": []
  },
  {
   "cell_type": "markdown",
   "metadata": {
    "id": "VLDxYColLM_A"
   },
   "source": [
    "### Validation empirique\n",
    "\n",
    "<u>**Question 4 :**</u> Servez-vous de vos temps d'exécution pour confirmer et/ou préciser l'analyse asymptotique théorique de vos algorithmes avec la méthode hybride de votre choix.\n",
    "\n",
    "La méthode peut varier d'un algorithme à l'autre.  Justifiez les choix effectués."
   ]
  },
  {
   "cell_type": "code",
   "execution_count": null,
   "metadata": {
    "id": "rmb1FJ1mLM_C"
   },
   "outputs": [],
   "source": []
  },
  {
   "cell_type": "markdown",
   "metadata": {
    "id": "qj1VgJanLM_C"
   },
   "source": [
    "*Insérer votre réponse ici*"
   ]
  },
  {
   "cell_type": "markdown",
   "metadata": {
    "id": "JyCCHpzeLM_C"
   },
   "source": [
    "# Évaluation de la consommation énergétique (1 point)\n",
    "\n",
    "Dans le cadre de ce TP, nous voulons vous sensibiliser à la consommation énergétique de vos algorithmes. Pour ce faire, nous vous fournissons une librairie que vous pouvez utiliser pour évaluer l'énergie nécessaire à la complétion de votre algorithme (https://mlco2.github.io/codecarbon/). Appelez chacun de vos algorithmes ci-bas avec les mêmes exemplaires et comparez le résultat obtenu par chacun."
   ]
  },
  {
   "cell_type": "code",
   "execution_count": 6,
   "metadata": {
    "id": "B5VBVWSo6iEV"
   },
   "outputs": [],
   "source": [
    "#Commande pour installer la librairie\n",
    "#!pip install codecarbon"
   ]
  },
  {
   "cell_type": "code",
   "execution_count": 8,
   "metadata": {
    "id": "sP-sePEj6jvk"
   },
   "outputs": [
    {
     "name": "stderr",
     "output_type": "stream",
     "text": [
      "[codecarbon INFO @ 20:12:15] [setup] RAM Tracking...\n",
      "[codecarbon INFO @ 20:12:15] [setup] CPU Tracking...\n",
      "[codecarbon WARNING @ 20:12:15] No CPU tracking mode found. Falling back on CPU constant mode. \n",
      " Windows OS detected: Please install Intel Power Gadget to measure CPU\n",
      "\n",
      "[codecarbon INFO @ 20:12:17] CPU Model on constant consumption mode: Intel(R) Core(TM) i9-9900K CPU @ 3.60GHz\n",
      "[codecarbon INFO @ 20:12:17] [setup] GPU Tracking...\n",
      "[codecarbon INFO @ 20:12:17] Tracking Nvidia GPU via pynvml\n",
      "[codecarbon INFO @ 20:12:17] >>> Tracker's metadata:\n",
      "[codecarbon INFO @ 20:12:17]   Platform system: Windows-10-10.0.19045-SP0\n",
      "[codecarbon INFO @ 20:12:17]   Python version: 3.13.1\n",
      "[codecarbon INFO @ 20:12:17]   CodeCarbon version: 2.8.3\n",
      "[codecarbon INFO @ 20:12:17]   Available RAM : 31.917 GB\n",
      "[codecarbon INFO @ 20:12:17]   CPU count: 16\n",
      "[codecarbon INFO @ 20:12:17]   CPU model: Intel(R) Core(TM) i9-9900K CPU @ 3.60GHz\n",
      "[codecarbon INFO @ 20:12:17]   GPU count: 1\n",
      "[codecarbon INFO @ 20:12:17]   GPU model: 1 x NVIDIA GeForce RTX 3080\n",
      "[codecarbon INFO @ 20:12:18] Saving emissions data to file d:\\INF8775\\TP2\\emissions.csv\n",
      "[codecarbon INFO @ 20:12:18] Energy consumed for RAM : 0.000000 kWh. RAM Power : 0.08159351348876953 W\n",
      "[codecarbon INFO @ 20:12:18] Energy consumed for all CPUs : 0.000000 kWh. Total CPU Power : 47.5 W\n",
      "[codecarbon INFO @ 20:12:18] Energy consumed for all GPUs : 0.000000 kWh. Total GPU Power : 0.0 W\n",
      "[codecarbon INFO @ 20:12:18] 0.000000 kWh of electricity used since the beginning.\n",
      "[codecarbon INFO @ 20:12:18] Energy consumed for RAM : 0.000000 kWh. RAM Power : 0.08159351348876953 W\n",
      "[codecarbon INFO @ 20:12:18] Energy consumed for all CPUs : 0.000001 kWh. Total CPU Power : 47.5 W\n",
      "[codecarbon INFO @ 20:12:18] Energy consumed for all GPUs : 0.000000 kWh. Total GPU Power : 0.0 W\n",
      "[codecarbon INFO @ 20:12:18] 0.000001 kWh of electricity used since the beginning.\n",
      "[codecarbon INFO @ 20:12:18] Energy consumed for RAM : 0.000000 kWh. RAM Power : 0.08159351348876953 W\n",
      "[codecarbon INFO @ 20:12:18] Energy consumed for all CPUs : 0.000001 kWh. Total CPU Power : 47.5 W\n",
      "[codecarbon INFO @ 20:12:18] Energy consumed for all GPUs : 0.000000 kWh. Total GPU Power : 0.0 W\n",
      "[codecarbon INFO @ 20:12:18] 0.000001 kWh of electricity used since the beginning.\n",
      "[codecarbon INFO @ 20:12:18] Energy consumed for RAM : 0.000000 kWh. RAM Power : 0.08159351348876953 W\n",
      "[codecarbon INFO @ 20:12:18] Energy consumed for all CPUs : 0.000001 kWh. Total CPU Power : 47.5 W\n",
      "[codecarbon INFO @ 20:12:18] Energy consumed for all GPUs : 0.000001 kWh. Total GPU Power : 145.4506169417398 W\n",
      "[codecarbon INFO @ 20:12:18] 0.000001 kWh of electricity used since the beginning.\n",
      "c:\\Users\\alexa\\AppData\\Local\\Programs\\Python\\Python313\\Lib\\site-packages\\codecarbon\\output_methods\\file.py:52: FutureWarning: The behavior of DataFrame concatenation with empty or all-NA entries is deprecated. In a future version, this will no longer exclude empty or all-NA columns when determining the result dtypes. To retain the old behavior, exclude the relevant entries before the concat operation.\n",
      "  df = pd.concat([df, pd.DataFrame.from_records([dict(total.values)])])\n",
      "c:\\Users\\alexa\\AppData\\Local\\Programs\\Python\\Python313\\Lib\\site-packages\\codecarbon\\output_methods\\file.py:81: FutureWarning: The behavior of DataFrame concatenation with empty or all-NA entries is deprecated. In a future version, this will no longer exclude empty or all-NA columns when determining the result dtypes. To retain the old behavior, exclude the relevant entries before the concat operation.\n",
      "  df = pd.concat(\n"
     ]
    }
   ],
   "source": [
    "from codecarbon import EmissionsTracker\n",
    "try:\n",
    "    tracker = EmissionsTracker(measure_power_secs=5, tracking_mode=\"process\")\n",
    "\n",
    "    tracker.start_task(\"glouton\")\n",
    "    # TODO Appel glouton\n",
    "    tracker.stop_task()\n",
    "\n",
    "    tracker.start_task(\"diviser\")\n",
    "    # TODO Appel diviser pour régner\n",
    "    tracker.stop_task()\n",
    "\n",
    "    tracker.start_task(\"dynamique\")\n",
    "    # TODO Appel dynamique\n",
    "    tracker.stop_task()\n",
    "finally:\n",
    "    _ = tracker.stop()"
   ]
  },
  {
   "cell_type": "markdown",
   "metadata": {
    "id": "Z54K_ptCLM_C"
   },
   "source": [
    "Les résultats de l'exécution du code ci-haut devraient apparaître dans un fichier csv. Présentez et commentez les résultats obtenus. Vous pouvez trouver une explication de la sortie dans la documentation qui est présente au lien ci-haut."
   ]
  },
  {
   "cell_type": "markdown",
   "metadata": {
    "id": "AX73_JpJLM_C"
   },
   "source": [
    "*Insérer votre réponse ici*"
   ]
  },
  {
   "cell_type": "markdown",
   "metadata": {
    "id": "sAMkZNCeLM_D"
   },
   "source": [
    "# Conclusion et synthèse (2 points)\n",
    "\n",
    "Résumez succinctement vos analyses et indiquez sous quelles conditions vous utiliseriez chacun des algorithmes en vous basant sur les résultats que vous avez obtenus."
   ]
  },
  {
   "cell_type": "markdown",
   "metadata": {
    "id": "F_7JC_GTLM_D"
   },
   "source": [
    "*Insérer votre réponse ici*"
   ]
  },
  {
   "cell_type": "markdown",
   "metadata": {
    "id": "70GBZejRLM_D"
   },
   "source": [
    "## Autres critères (2 pts)\n",
    " Qualité du code / 1 pt\n",
    "\n",
    "Présentation générale / 1 pt\n",
    "\n",
    "- Concision\n",
    "- Qualité du français\n",
    "\n",
    "Pénalité retard\n",
    "- -1 pt / journée de retard, arrondi vers le haut. Les TPs ne sont plus acceptés après 3 jours."
   ]
  }
 ],
 "metadata": {
  "colab": {
   "provenance": []
  },
  "kernelspec": {
   "display_name": "Python 3",
   "language": "python",
   "name": "python3"
  },
  "language_info": {
   "codemirror_mode": {
    "name": "ipython",
    "version": 3
   },
   "file_extension": ".py",
   "mimetype": "text/x-python",
   "name": "python",
   "nbconvert_exporter": "python",
   "pygments_lexer": "ipython3",
   "version": "3.13.1"
  }
 },
 "nbformat": 4,
 "nbformat_minor": 4
}
